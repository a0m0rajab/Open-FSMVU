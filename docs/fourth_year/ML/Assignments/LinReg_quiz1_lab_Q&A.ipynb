{
 "cells": [
  {
   "cell_type": "markdown",
   "metadata": {},
   "source": [
    "Load and prepare data"
   ]
  },
  {
   "cell_type": "code",
   "execution_count": 8,
   "metadata": {},
   "outputs": [
    {
     "data": {
      "text/html": [
       "<div>\n",
       "<style scoped>\n",
       "    .dataframe tbody tr th:only-of-type {\n",
       "        vertical-align: middle;\n",
       "    }\n",
       "\n",
       "    .dataframe tbody tr th {\n",
       "        vertical-align: top;\n",
       "    }\n",
       "\n",
       "    .dataframe thead th {\n",
       "        text-align: right;\n",
       "    }\n",
       "</style>\n",
       "<table border=\"1\" class=\"dataframe\">\n",
       "  <thead>\n",
       "    <tr style=\"text-align: right;\">\n",
       "      <th></th>\n",
       "      <th>5</th>\n",
       "      <th>6</th>\n",
       "      <th>7</th>\n",
       "      <th>8</th>\n",
       "      <th>9</th>\n",
       "      <th>10</th>\n",
       "      <th>11</th>\n",
       "      <th>12</th>\n",
       "      <th>13</th>\n",
       "      <th>14</th>\n",
       "      <th>...</th>\n",
       "      <th>117</th>\n",
       "      <th>118</th>\n",
       "      <th>119</th>\n",
       "      <th>120</th>\n",
       "      <th>121</th>\n",
       "      <th>122</th>\n",
       "      <th>123</th>\n",
       "      <th>124</th>\n",
       "      <th>125</th>\n",
       "      <th>126</th>\n",
       "    </tr>\n",
       "  </thead>\n",
       "  <tbody>\n",
       "    <tr>\n",
       "      <td>count</td>\n",
       "      <td>319.000000</td>\n",
       "      <td>319.000000</td>\n",
       "      <td>319.000000</td>\n",
       "      <td>319.000000</td>\n",
       "      <td>319.000000</td>\n",
       "      <td>319.000000</td>\n",
       "      <td>319.000000</td>\n",
       "      <td>319.000000</td>\n",
       "      <td>319.000000</td>\n",
       "      <td>319.000000</td>\n",
       "      <td>...</td>\n",
       "      <td>319.000000</td>\n",
       "      <td>319.000000</td>\n",
       "      <td>319.000000</td>\n",
       "      <td>319.000000</td>\n",
       "      <td>319.000000</td>\n",
       "      <td>319.000000</td>\n",
       "      <td>319.000000</td>\n",
       "      <td>319.000000</td>\n",
       "      <td>319.000000</td>\n",
       "      <td>319.000000</td>\n",
       "    </tr>\n",
       "    <tr>\n",
       "      <td>mean</td>\n",
       "      <td>0.229342</td>\n",
       "      <td>0.424483</td>\n",
       "      <td>0.337085</td>\n",
       "      <td>0.590094</td>\n",
       "      <td>0.209467</td>\n",
       "      <td>0.219185</td>\n",
       "      <td>0.420533</td>\n",
       "      <td>0.532821</td>\n",
       "      <td>0.366113</td>\n",
       "      <td>0.414734</td>\n",
       "      <td>...</td>\n",
       "      <td>0.305987</td>\n",
       "      <td>0.161254</td>\n",
       "      <td>0.353260</td>\n",
       "      <td>0.301160</td>\n",
       "      <td>0.163103</td>\n",
       "      <td>0.076708</td>\n",
       "      <td>0.698589</td>\n",
       "      <td>0.440439</td>\n",
       "      <td>0.587900</td>\n",
       "      <td>0.195078</td>\n",
       "    </tr>\n",
       "    <tr>\n",
       "      <td>std</td>\n",
       "      <td>0.243098</td>\n",
       "      <td>0.146542</td>\n",
       "      <td>0.311374</td>\n",
       "      <td>0.258285</td>\n",
       "      <td>0.245242</td>\n",
       "      <td>0.261124</td>\n",
       "      <td>0.122616</td>\n",
       "      <td>0.117848</td>\n",
       "      <td>0.131137</td>\n",
       "      <td>0.152828</td>\n",
       "      <td>...</td>\n",
       "      <td>0.226884</td>\n",
       "      <td>0.208825</td>\n",
       "      <td>0.253366</td>\n",
       "      <td>0.295543</td>\n",
       "      <td>0.214778</td>\n",
       "      <td>0.140207</td>\n",
       "      <td>0.213944</td>\n",
       "      <td>0.405808</td>\n",
       "      <td>0.265967</td>\n",
       "      <td>0.164718</td>\n",
       "    </tr>\n",
       "    <tr>\n",
       "      <td>min</td>\n",
       "      <td>0.000000</td>\n",
       "      <td>0.040000</td>\n",
       "      <td>0.000000</td>\n",
       "      <td>0.000000</td>\n",
       "      <td>0.010000</td>\n",
       "      <td>0.010000</td>\n",
       "      <td>0.060000</td>\n",
       "      <td>0.040000</td>\n",
       "      <td>0.030000</td>\n",
       "      <td>0.060000</td>\n",
       "      <td>...</td>\n",
       "      <td>0.000000</td>\n",
       "      <td>0.000000</td>\n",
       "      <td>0.010000</td>\n",
       "      <td>0.000000</td>\n",
       "      <td>0.000000</td>\n",
       "      <td>0.000000</td>\n",
       "      <td>0.000000</td>\n",
       "      <td>0.000000</td>\n",
       "      <td>0.000000</td>\n",
       "      <td>0.000000</td>\n",
       "    </tr>\n",
       "    <tr>\n",
       "      <td>25%</td>\n",
       "      <td>0.080000</td>\n",
       "      <td>0.340000</td>\n",
       "      <td>0.070000</td>\n",
       "      <td>0.420000</td>\n",
       "      <td>0.060000</td>\n",
       "      <td>0.040000</td>\n",
       "      <td>0.350000</td>\n",
       "      <td>0.470000</td>\n",
       "      <td>0.290000</td>\n",
       "      <td>0.310000</td>\n",
       "      <td>...</td>\n",
       "      <td>0.140000</td>\n",
       "      <td>0.050000</td>\n",
       "      <td>0.180000</td>\n",
       "      <td>0.090000</td>\n",
       "      <td>0.040000</td>\n",
       "      <td>0.020000</td>\n",
       "      <td>0.620000</td>\n",
       "      <td>0.000000</td>\n",
       "      <td>0.400000</td>\n",
       "      <td>0.110000</td>\n",
       "    </tr>\n",
       "    <tr>\n",
       "      <td>50%</td>\n",
       "      <td>0.140000</td>\n",
       "      <td>0.410000</td>\n",
       "      <td>0.220000</td>\n",
       "      <td>0.630000</td>\n",
       "      <td>0.110000</td>\n",
       "      <td>0.100000</td>\n",
       "      <td>0.410000</td>\n",
       "      <td>0.520000</td>\n",
       "      <td>0.330000</td>\n",
       "      <td>0.410000</td>\n",
       "      <td>...</td>\n",
       "      <td>0.260000</td>\n",
       "      <td>0.090000</td>\n",
       "      <td>0.260000</td>\n",
       "      <td>0.180000</td>\n",
       "      <td>0.080000</td>\n",
       "      <td>0.030000</td>\n",
       "      <td>0.750000</td>\n",
       "      <td>0.500000</td>\n",
       "      <td>0.560000</td>\n",
       "      <td>0.150000</td>\n",
       "    </tr>\n",
       "    <tr>\n",
       "      <td>75%</td>\n",
       "      <td>0.255000</td>\n",
       "      <td>0.480000</td>\n",
       "      <td>0.560000</td>\n",
       "      <td>0.810000</td>\n",
       "      <td>0.240000</td>\n",
       "      <td>0.295000</td>\n",
       "      <td>0.470000</td>\n",
       "      <td>0.575000</td>\n",
       "      <td>0.400000</td>\n",
       "      <td>0.490000</td>\n",
       "      <td>...</td>\n",
       "      <td>0.395000</td>\n",
       "      <td>0.175000</td>\n",
       "      <td>0.470000</td>\n",
       "      <td>0.385000</td>\n",
       "      <td>0.195000</td>\n",
       "      <td>0.060000</td>\n",
       "      <td>0.840000</td>\n",
       "      <td>1.000000</td>\n",
       "      <td>0.790000</td>\n",
       "      <td>0.220000</td>\n",
       "    </tr>\n",
       "    <tr>\n",
       "      <td>max</td>\n",
       "      <td>1.000000</td>\n",
       "      <td>1.000000</td>\n",
       "      <td>1.000000</td>\n",
       "      <td>0.980000</td>\n",
       "      <td>1.000000</td>\n",
       "      <td>1.000000</td>\n",
       "      <td>1.000000</td>\n",
       "      <td>1.000000</td>\n",
       "      <td>1.000000</td>\n",
       "      <td>1.000000</td>\n",
       "      <td>...</td>\n",
       "      <td>1.000000</td>\n",
       "      <td>1.000000</td>\n",
       "      <td>1.000000</td>\n",
       "      <td>1.000000</td>\n",
       "      <td>1.000000</td>\n",
       "      <td>1.000000</td>\n",
       "      <td>1.000000</td>\n",
       "      <td>1.000000</td>\n",
       "      <td>1.000000</td>\n",
       "      <td>1.000000</td>\n",
       "    </tr>\n",
       "  </tbody>\n",
       "</table>\n",
       "<p>8 rows × 122 columns</p>\n",
       "</div>"
      ],
      "text/plain": [
       "              5           6           7           8           9           10   \\\n",
       "count  319.000000  319.000000  319.000000  319.000000  319.000000  319.000000   \n",
       "mean     0.229342    0.424483    0.337085    0.590094    0.209467    0.219185   \n",
       "std      0.243098    0.146542    0.311374    0.258285    0.245242    0.261124   \n",
       "min      0.000000    0.040000    0.000000    0.000000    0.010000    0.010000   \n",
       "25%      0.080000    0.340000    0.070000    0.420000    0.060000    0.040000   \n",
       "50%      0.140000    0.410000    0.220000    0.630000    0.110000    0.100000   \n",
       "75%      0.255000    0.480000    0.560000    0.810000    0.240000    0.295000   \n",
       "max      1.000000    1.000000    1.000000    0.980000    1.000000    1.000000   \n",
       "\n",
       "              11          12          13          14   ...         117  \\\n",
       "count  319.000000  319.000000  319.000000  319.000000  ...  319.000000   \n",
       "mean     0.420533    0.532821    0.366113    0.414734  ...    0.305987   \n",
       "std      0.122616    0.117848    0.131137    0.152828  ...    0.226884   \n",
       "min      0.060000    0.040000    0.030000    0.060000  ...    0.000000   \n",
       "25%      0.350000    0.470000    0.290000    0.310000  ...    0.140000   \n",
       "50%      0.410000    0.520000    0.330000    0.410000  ...    0.260000   \n",
       "75%      0.470000    0.575000    0.400000    0.490000  ...    0.395000   \n",
       "max      1.000000    1.000000    1.000000    1.000000  ...    1.000000   \n",
       "\n",
       "              118         119         120         121         122         123  \\\n",
       "count  319.000000  319.000000  319.000000  319.000000  319.000000  319.000000   \n",
       "mean     0.161254    0.353260    0.301160    0.163103    0.076708    0.698589   \n",
       "std      0.208825    0.253366    0.295543    0.214778    0.140207    0.213944   \n",
       "min      0.000000    0.010000    0.000000    0.000000    0.000000    0.000000   \n",
       "25%      0.050000    0.180000    0.090000    0.040000    0.020000    0.620000   \n",
       "50%      0.090000    0.260000    0.180000    0.080000    0.030000    0.750000   \n",
       "75%      0.175000    0.470000    0.385000    0.195000    0.060000    0.840000   \n",
       "max      1.000000    1.000000    1.000000    1.000000    1.000000    1.000000   \n",
       "\n",
       "              124         125         126  \n",
       "count  319.000000  319.000000  319.000000  \n",
       "mean     0.440439    0.587900    0.195078  \n",
       "std      0.405808    0.265967    0.164718  \n",
       "min      0.000000    0.000000    0.000000  \n",
       "25%      0.000000    0.400000    0.110000  \n",
       "50%      0.500000    0.560000    0.150000  \n",
       "75%      1.000000    0.790000    0.220000  \n",
       "max      1.000000    1.000000    1.000000  \n",
       "\n",
       "[8 rows x 122 columns]"
      ]
     },
     "execution_count": 8,
     "metadata": {},
     "output_type": "execute_result"
    }
   ],
   "source": [
    "import pandas as pd\n",
    "\n",
    "url = 'http://archive.ics.uci.edu/ml/machine-learning-databases/communities/communities.data'\n",
    "crime = pd.read_csv(url, header=None, na_values=['?'])\n",
    "\n",
    "# remove categorical features\n",
    "crime.drop([0, 1, 2, 3, 4], axis=1, inplace=True)\n",
    "\n",
    "# remove rows with any missing values\n",
    "crime.dropna(inplace=True)\n",
    "\n",
    "X = crime.drop(127, axis=1)\n",
    "y = crime[127]\n",
    "X.describe()"
   ]
  },
  {
   "cell_type": "code",
   "execution_count": 9,
   "metadata": {},
   "outputs": [],
   "source": [
    "# split into training and testing sets\n",
    "from sklearn.model_selection import train_test_split\n",
    "\n",
    "X_train, X_test, y_train, y_test = train_test_split(X, y, random_state=1)"
   ]
  },
  {
   "cell_type": "markdown",
   "metadata": {},
   "source": [
    "Write a function that fits a LinearRegression model on the training data X_train.\n",
    "This function should return one tuple (LinearRegression_R2_train_score, LinearRegression_R2_test_score)"
   ]
  },
  {
   "cell_type": "code",
   "execution_count": 12,
   "metadata": {},
   "outputs": [],
   "source": [
    "def linear_regression():\n",
    "    #todo: write code here \n",
    "    from sklearn.linear_model import LinearRegression\n",
    "\n",
    "    lrm = LinearRegression(normalize=True)\n",
    "    lrm.fit(X_train, y_train)\n",
    "    return lrm.score(X_train,y_train),lrm.score(X_test,y_test)\n",
    "\n"
   ]
  },
  {
   "cell_type": "markdown",
   "metadata": {},
   "source": [
    "call linear_regression() function and write the output"
   ]
  },
  {
   "cell_type": "code",
   "execution_count": 13,
   "metadata": {},
   "outputs": [
    {
     "name": "stdout",
     "output_type": "stream",
     "text": [
      "(0.8677856862224301, 0.05574454183063471)\n"
     ]
    }
   ],
   "source": [
    "#todo: write code here \n",
    "print(linear_regression())"
   ]
  },
  {
   "cell_type": "code",
   "execution_count": null,
   "metadata": {},
   "outputs": [],
   "source": [
    "#features would be penalized simply because of their scale for Ridge and Lasso\n",
    "from sklearn.preprocessing import StandardScaler\n",
    "sc = StandardScaler()\n",
    "SX_train = sc.fit_transform(X_train)\n",
    "SX_test = sc.transform(X_test)"
   ]
  },
  {
   "cell_type": "markdown",
   "metadata": {},
   "source": [
    "Write a function that fits a Ridge model on the training data SX_train. The input parameter is alpha. \n",
    "This function should return one tuple (RidgeRegression_R2_train_score, RidgeRegression_R2_test_score)"
   ]
  },
  {
   "cell_type": "code",
   "execution_count": 27,
   "metadata": {},
   "outputs": [],
   "source": [
    "def ridge_regression(alpha):\n",
    "    #todo: write code here\n",
    "    from sklearn import linear_model\n",
    "    reg = linear_model.Ridge(alpha)\n",
    "    reg.fit(X_train, y_train, alpha)\n",
    "    return reg"
   ]
  },
  {
   "cell_type": "markdown",
   "metadata": {},
   "source": [
    "call ridge_regression(alpha) function with different alpha (0, 0.1, 0.2, etc.) and write the output"
   ]
  },
  {
   "cell_type": "code",
   "execution_count": 28,
   "metadata": {},
   "outputs": [
    {
     "data": {
      "text/plain": [
       "Ridge(alpha=0, copy_X=True, fit_intercept=True, max_iter=None, normalize=False,\n",
       "      random_state=None, solver='auto', tol=0.001)"
      ]
     },
     "execution_count": 28,
     "metadata": {},
     "output_type": "execute_result"
    }
   ],
   "source": [
    "#todo: write code here \n",
    "ridge_regression(0)"
   ]
  },
  {
   "cell_type": "markdown",
   "metadata": {},
   "source": [
    "Write a function that fits a Lasso model on the training data SX_train. The input parameter is alpha. \n",
    "This function should return one tuple (LassoRegression_R2_train_score, LassoRegression_R2_test_score)"
   ]
  },
  {
   "cell_type": "code",
   "execution_count": null,
   "metadata": {},
   "outputs": [],
   "source": [
    "def lasso_regression(alpha):\n",
    "    #todo: write code here\n"
   ]
  },
  {
   "cell_type": "markdown",
   "metadata": {},
   "source": [
    "call lasso_regression(alpha) function with different alpha (0.001, 0.01, etc.) and write the output"
   ]
  },
  {
   "cell_type": "code",
   "execution_count": null,
   "metadata": {},
   "outputs": [],
   "source": [
    "#todo: write code here \n"
   ]
  }
 ],
 "metadata": {
  "kernelspec": {
   "display_name": "Python 3",
   "language": "python",
   "name": "python3"
  },
  "language_info": {
   "codemirror_mode": {
    "name": "ipython",
    "version": 3
   },
   "file_extension": ".py",
   "mimetype": "text/x-python",
   "name": "python",
   "nbconvert_exporter": "python",
   "pygments_lexer": "ipython3",
   "version": "3.7.4"
  }
 },
 "nbformat": 4,
 "nbformat_minor": 2
}
